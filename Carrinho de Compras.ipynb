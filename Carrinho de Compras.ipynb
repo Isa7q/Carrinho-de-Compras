{
 "cells": [
  {
   "cell_type": "markdown",
   "metadata": {},
   "source": [
    "## Carrinho de Compras 🛒\n",
    "\n",
    "Depois de darmos uma passadinha pelo site da **Shópi**, vimos alguns itens interessantes.\n",
    "\n",
    "### Objetivo:\n",
    "Criar uma lista composta por vários **dicionários** (`dict`). Cada dicionário deve representar um item do carrinho de compras.\n",
    "\n",
    "---\n",
    "\n",
    "### Requisitos:\n",
    "1. Cada dicionário deve conter, no mínimo, as seguintes chaves:\n",
    "   - **`nome`**: Nome do item.\n",
    "   - **`quantidade`**: Quantidade desejada do item.(Deve ter pelo menos **2 unidades**)\n",
    "   - **`preco_unitario`**: Preço de cada unidade do item.\n",
    "\n",
    "2. A lista final deve ser composta por pelo menos **3 itens diferentes**.\n",
    "\n",
    "---\n",
    "\n",
    "### Exemplo:\n",
    "```python\n",
    "carrinho = [\n",
    "    {\"nome\": \"Calça Bege\", \"quantidade\": 3, \"preco_unitario\": 52.50},\n",
    "    {\"nome\": \"Chapéu de Marinheiro\", \"quantidade\": 10, \"preco_unitario\": 42.10},\n",
    "    {\"nome\": \"Mochila de Capivara\", \"quantidade\": 5, \"preco_unitario\": 120.00}\n",
    "]\n",
    "```\n"
   ]
  },
  {
   "cell_type": "code",
   "execution_count": 1,
   "metadata": {},
   "outputs": [
    {
     "name": "stdout",
     "output_type": "stream",
     "text": [
      "carinho atualizado: [{'nome': 'Calca Wedleg', 'unidade': 5, 'preco_unitario': 62.99}, {'nome': 'Blusinha', 'unidade': 30, 'preco_unitario': 19.9}]\n",
      "item removido por engano: {'nome': 'Vestido Rosa', 'unidade': 10, 'preco_unitario': 98.89}\n"
     ]
    }
   ],
   "source": [
    "#adicionando o banco de dados\n",
    "carrinho = [\n",
    "   {\"nome\": \"Vestido Rosa\", \"unidade\": 10, \"preco_unitario\": 98.89},\n",
    "   {\"nome\": \"Calca Wedleg\", \"unidade\": 5, \"preco_unitario\": 62.99},\n",
    "   {\"nome\": \"Blusinha\", \"unidade\": 30, \"preco_unitario\": 19.90},\n",
    "]\n",
    "\n"
   ]
  },
  {
   "cell_type": "markdown",
   "metadata": {},
   "source": [
    "---\n",
    "\n",
    "## Remover o Primeiro Item 🗑️\n",
    "\n",
    "### O que aconteceu? 🤔\n",
    "\n",
    "Durante nossa aventura de compras, percebemos que adicionamos o primeiro item **por engano**. Talvez tenha sido o entusiasmo de ver tantas promoções, mas agora é hora de corrigir isso e remover o item errado do nosso carrinho!\n",
    "\n",
    "---\n",
    "\n",
    "### Passos para Remover o Primeiro Item:\n",
    "\n",
    "1. Use o método `pop(0)` para remover o item no índice 0 (o primeiro da lista).\n",
    "2. Armazene o item removido em uma variável para verificarmos qual foi excluído.\n",
    "3. Atualize o carrinho para refletir a mudança.\n",
    "\n",
    "---\n",
    "\n",
    "### Código de Exemplo:\n",
    "\n",
    "```python\n",
    "# Carrinho de compras\n",
    "carrinho = [\n",
    "    {\"nome\": \"Machado de Guerra\", \"quantidade\": 20, \"preco_unitario\": 2500.50},\n",
    "    {\"nome\": \"Camiseta Legal\", \"quantidade\": 4, \"preco_unitario\": 52.30},\n",
    "    {\"nome\": \"Mochila de Hyrax\", \"quantidade\": 6, \"preco_unitario\": 200.00}\n",
    "]\n",
    "\n",
    "# Removendo o primeiro item\n",
    "item_removido = carrinho.pop(0)\n",
    "\n",
    "# Exibindo o carrinho atualizado\n",
    "print(f\"Carrinho atualizado: {carrinho}\")\n",
    "\n",
    "# Exibindo o item removido\n",
    "print(f\"Item removido por engano: {item_removido}\")\n"
   ]
  },
  {
   "cell_type": "code",
   "execution_count": 2,
   "metadata": {},
   "outputs": [
    {
     "name": "stdout",
     "output_type": "stream",
     "text": [
      "carinho atulizado:[{'nome': 'Calca Wedleg', 'unidade': 5, 'preco_unitario': 62.99}, {'nome': 'Blusinha', 'unidade': 30, 'preco_unitario': 19.9}, {'nome': 'Vestido Longo', 'unidade': 10, 'preco_unitario': 119.99}]\n"
     ]
    }
   ],
   "source": [
    "#removendo o primeiro item\n",
    "item_removido = carrinho.pop(0)\n",
    "print(f\"carinho atualizado: {carrinho}\")\n",
    "print(f\"item removido por engano: {item_removido}\")#adicionando item q removemos por engano\n",
    "\n",
    "\n"
   ]
  },
  {
   "cell_type": "markdown",
   "metadata": {},
   "source": [
    "---\n",
    "\n",
    "## Adicionar um Novo Item 🛍️\n",
    "\n",
    "### O que aconteceu agora? 🤔\n",
    "\n",
    "Depois de corrigir o engano e remover o item errado, lembramos que ainda precisamos adicionar um novo item ao carrinho — agora o item **certo**! Vamos garantir que nossa lista fique completa para finalizar a compra.\n",
    "\n",
    "---\n",
    "\n",
    "### Passos para Adicionar um Novo Item:\n",
    "\n",
    "1. Use o método `append()` para adicionar um novo dicionário ao final da lista do carrinho.\n",
    "2. Certifique-se de que o dicionário contenha as informações básicas do item:\n",
    "   - **`nome`**: Nome do produto.\n",
    "   - **`quantidade`**: Quantidade desejada.\n",
    "   - **`preco_unitario`**: Preço de cada unidade do item.\n",
    "\n",
    "---\n",
    "\n",
    "### Código de Exemplo:\n",
    "\n",
    "```python\n",
    "# Carrinho de compras atualizado\n",
    "carrinho = [\n",
    "    {\"nome\": \"Caderno\", \"quantidade\": 6, \"preco_unitario\": 15.00},\n",
    "    {\"nome\": \"Mochila\", \"quantidade\": 10, \"preco_unitario\": 120.00}\n",
    "]\n",
    "\n",
    "# Novo item a ser adicionado\n",
    "novo_item = {\"nome\": \"Estojo\", \"quantidade\": 1, \"preco_unitario\": 25.00}\n",
    "\n",
    "# Adicionando o novo item ao carrinho\n",
    "carrinho.append(novo_item)\n",
    "\n",
    "# Exibindo o carrinho atualizado\n",
    "print(f\"Carrinho atualizado: {carrinho}\")\n"
   ]
  },
  {
   "cell_type": "code",
   "execution_count": 4,
   "metadata": {},
   "outputs": [
    {
     "name": "stdout",
     "output_type": "stream",
     "text": [
      "carinho atulizado:[{'nome': 'Calca Wedleg', 'unidade': 5, 'preco_unitario': 62.99}, {'nome': 'Blusinha', 'unidade': 30, 'preco_unitario': 19.9}, {'nome': 'Vestido Longo', 'unidade': 10, 'preco_unitario': 119.99}]\n"
     ]
    }
   ],
   "source": [
    "#adicionando novo item ao carrinho\n",
    "carrinho = [\n",
    "   {\"nome\": \"Calca Wedleg\", \"unidade\": 5, \"preco_unitario\": 62.99},\n",
    "   {\"nome\": \"Blusinha\", \"unidade\": 30, \"preco_unitario\": 19.90},\n",
    "]\n",
    "novo_item = {\"nome\": \"Vestido Longo\", \"unidade\": 10, \"preco_unitario\": 119.99}# novo item adicionado ao carrinho\n",
    "carrinho.append(novo_item)\n",
    "print(f\"carinho atulizado:{carrinho}\")\n",
    "\n",
    "\n"
   ]
  },
  {
   "cell_type": "markdown",
   "metadata": {},
   "source": [
    "---\n",
    "\n",
    "## Checkout 🧾\n",
    "\n",
    "Agora que já montamos nosso **carrinho de compras**, vamos calcular o **preço final** diretamente, usando variáveis para cada cálculo e arredondando os valores com `round`.\n",
    "\n",
    "---\n",
    "\n",
    "### Código de Exemplo:\n",
    "\n",
    "```python\n",
    "# Carrinho de compras\n",
    "carrinho = [\n",
    "    {\"nome\": \"Caneta\", \"quantidade\": 3, \"preco_unitario\": 1.50},\n",
    "    {\"nome\": \"Caderno\", \"quantidade\": 5, \"preco_unitario\": 15.00},\n",
    "    {\"nome\": \"Mochila\", \"quantidade\": 6, \"preco_unitario\": 120.00}\n",
    "]\n",
    "\n",
    "# Acessando os valores e calculando os preços\n",
    "quantidade_1 = carrinho[0][\"quantidade\"]\n",
    "preco_1 = carrinho[0][\"preco_unitario\"]\n",
    "preco_item_1 = round(quantidade_1 * preco_1, 2)\n",
    "\n",
    "quantidade_2 = carrinho[1][\"quantidade\"]\n",
    "preco_2 = carrinho[1][\"preco_unitario\"]\n",
    "preco_item_2 = round(quantidade_2 * preco_2, 2)\n",
    "\n",
    "quantidade_3 = carrinho[2][\"quantidade\"]\n",
    "preco_3 = carrinho[2][\"preco_unitario\"]\n",
    "preco_item_3 = round(quantidade_3 * preco_3, 2)\n",
    "\n",
    "# Somando os preços para obter o total\n",
    "total = round(preco_item_1 + preco_item_2 + preco_item_3, 2)\n",
    "\n",
    "# Exibindo o total final\n",
    "print(f\"Total: R$ {total}\")\n"
   ]
  },
  {
   "cell_type": "code",
   "execution_count": 3,
   "metadata": {},
   "outputs": [
    {
     "name": "stdout",
     "output_type": "stream",
     "text": [
      "tota: R$ 2111.85\n"
     ]
    }
   ],
   "source": [
    "carrinho = [\n",
    "   {\"nome\": \"Calca Wedleg\", \"unidade\": 5, \"preco_unitario\": 62.99},\n",
    "   {\"nome\": \"Blusinha\", \"unidade\": 30, \"preco_unitario\": 19.90},\n",
    "   {\"nome\": \"Vestido Longo\", \"unidade\": 10, \"preco_unitario\": 119.99}  \n",
    "]\n",
    "quantidade_1 = carrinho[0][\"unidade\"]\n",
    "preco_1 = carrinho[0][\"preco_unitario\"]\n",
    "preco_item_1 = round(quantidade_1 * preco_1, 2)\n",
    "\n",
    "quantidade_2 = carrinho[1][\"unidade\"]\n",
    "preco_2 = carrinho[1][\"preco_unitario\"]\n",
    "preco_item_2 = round(quantidade_2 * preco_2, 2)\n",
    "\n",
    "quantidade_3 = carrinho[2][\"unidade\"]\n",
    "preco_3 = carrinho[2][\"preco_unitario\"]\n",
    "preco_item_3 = round(quantidade_3 * preco_3, 2)\n",
    "\n",
    "total = round(preco_item_1 + preco_item_2 + preco_item_3, 2)\n",
    "\n",
    "print(f\"tota: R$ {total}\")\n",
    "\n",
    "\n"
   ]
  }
 ],
 "metadata": {
  "kernelspec": {
   "display_name": "base",
   "language": "python",
   "name": "python3"
  },
  "language_info": {
   "codemirror_mode": {
    "name": "ipython",
    "version": 3
   },
   "file_extension": ".py",
   "mimetype": "text/x-python",
   "name": "python",
   "nbconvert_exporter": "python",
   "pygments_lexer": "ipython3",
   "version": "3.12.7"
  }
 },
 "nbformat": 4,
 "nbformat_minor": 2
}
